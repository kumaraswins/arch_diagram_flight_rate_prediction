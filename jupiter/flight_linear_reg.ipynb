{
 "cells": [
  {
   "cell_type": "markdown",
   "metadata": {},
   "source": [
    "# Import Libraries"
   ]
  },
  {
   "cell_type": "code",
   "execution_count": 45,
   "metadata": {},
   "outputs": [],
   "source": [
    "import pandas as pd\n",
    "import numpy as np\n",
    "from scipy import stats\n",
    "from datetime import datetime\n",
    "import seaborn as seabornInstance \n",
    "from sklearn import preprocessing\n",
    "from sklearn.model_selection import KFold\n",
    "from sklearn.linear_model import LinearRegression\n",
    "from sklearn.model_selection import train_test_split \n",
    "import matplotlib.pyplot as plt\n",
    "%matplotlib inline"
   ]
  },
  {
   "cell_type": "markdown",
   "metadata": {},
   "source": [
    "# Import Data"
   ]
  },
  {
   "cell_type": "code",
   "execution_count": 46,
   "metadata": {},
   "outputs": [
    {
     "name": "stdout",
     "output_type": "stream",
     "text": [
      "There are 20000 rows and 14 columns\n"
     ]
    },
    {
     "data": {
      "text/html": [
       "<div>\n",
       "<style scoped>\n",
       "    .dataframe tbody tr th:only-of-type {\n",
       "        vertical-align: middle;\n",
       "    }\n",
       "\n",
       "    .dataframe tbody tr th {\n",
       "        vertical-align: top;\n",
       "    }\n",
       "\n",
       "    .dataframe thead th {\n",
       "        text-align: right;\n",
       "    }\n",
       "</style>\n",
       "<table border=\"1\" class=\"dataframe\">\n",
       "  <thead>\n",
       "    <tr style=\"text-align: right;\">\n",
       "      <th></th>\n",
       "      <th>ID</th>\n",
       "      <th>flightNumber</th>\n",
       "      <th>craftTypeCode</th>\n",
       "      <th>depAirport</th>\n",
       "      <th>traAirport</th>\n",
       "      <th>arrAirport</th>\n",
       "      <th>departureDate</th>\n",
       "      <th>arrivalDate</th>\n",
       "      <th>cabinClass</th>\n",
       "      <th>priceClass</th>\n",
       "      <th>price</th>\n",
       "      <th>rate</th>\n",
       "      <th>createDate</th>\n",
       "      <th>dateDifference</th>\n",
       "    </tr>\n",
       "  </thead>\n",
       "  <tbody>\n",
       "    <tr>\n",
       "      <th>0</th>\n",
       "      <td>78246995</td>\n",
       "      <td>CA1550</td>\n",
       "      <td>77W</td>\n",
       "      <td>SHA</td>\n",
       "      <td>missing</td>\n",
       "      <td>PEK</td>\n",
       "      <td>2019-07-16 19:55:00</td>\n",
       "      <td>2019-07-16 22:10:00</td>\n",
       "      <td>C</td>\n",
       "      <td>Z</td>\n",
       "      <td>2980</td>\n",
       "      <td>0.52</td>\n",
       "      <td>2019-07-17 02:32:27</td>\n",
       "      <td>-1</td>\n",
       "    </tr>\n",
       "    <tr>\n",
       "      <th>1</th>\n",
       "      <td>78246997</td>\n",
       "      <td>CA1550</td>\n",
       "      <td>77W</td>\n",
       "      <td>SHA</td>\n",
       "      <td>missing</td>\n",
       "      <td>PEK</td>\n",
       "      <td>2019-07-16 19:55:00</td>\n",
       "      <td>2019-07-16 22:10:00</td>\n",
       "      <td>C</td>\n",
       "      <td>J</td>\n",
       "      <td>5810</td>\n",
       "      <td>1.00</td>\n",
       "      <td>2019-07-17 02:32:27</td>\n",
       "      <td>-1</td>\n",
       "    </tr>\n",
       "    <tr>\n",
       "      <th>2</th>\n",
       "      <td>78246998</td>\n",
       "      <td>CA1550</td>\n",
       "      <td>77W</td>\n",
       "      <td>SHA</td>\n",
       "      <td>missing</td>\n",
       "      <td>PEK</td>\n",
       "      <td>2019-07-16 19:55:00</td>\n",
       "      <td>2019-07-16 22:10:00</td>\n",
       "      <td>C</td>\n",
       "      <td>D</td>\n",
       "      <td>3730</td>\n",
       "      <td>0.65</td>\n",
       "      <td>2019-07-17 02:32:27</td>\n",
       "      <td>-1</td>\n",
       "    </tr>\n",
       "    <tr>\n",
       "      <th>3</th>\n",
       "      <td>78246999</td>\n",
       "      <td>CA1550</td>\n",
       "      <td>77W</td>\n",
       "      <td>SHA</td>\n",
       "      <td>missing</td>\n",
       "      <td>PEK</td>\n",
       "      <td>2019-07-16 19:55:00</td>\n",
       "      <td>2019-07-16 22:10:00</td>\n",
       "      <td>C</td>\n",
       "      <td>C</td>\n",
       "      <td>4170</td>\n",
       "      <td>0.72</td>\n",
       "      <td>2019-07-17 02:32:27</td>\n",
       "      <td>-1</td>\n",
       "    </tr>\n",
       "    <tr>\n",
       "      <th>4</th>\n",
       "      <td>78247002</td>\n",
       "      <td>MU5125</td>\n",
       "      <td>33L</td>\n",
       "      <td>SHA</td>\n",
       "      <td>missing</td>\n",
       "      <td>PEK</td>\n",
       "      <td>2019-07-16 20:05:00</td>\n",
       "      <td>2019-07-16 22:10:00</td>\n",
       "      <td>C</td>\n",
       "      <td>I</td>\n",
       "      <td>2000</td>\n",
       "      <td>0.36</td>\n",
       "      <td>2019-07-17 02:32:27</td>\n",
       "      <td>-1</td>\n",
       "    </tr>\n",
       "  </tbody>\n",
       "</table>\n",
       "</div>"
      ],
      "text/plain": [
       "         ID flightNumber craftTypeCode depAirport traAirport arrAirport  \\\n",
       "0  78246995       CA1550           77W        SHA    missing        PEK   \n",
       "1  78246997       CA1550           77W        SHA    missing        PEK   \n",
       "2  78246998       CA1550           77W        SHA    missing        PEK   \n",
       "3  78246999       CA1550           77W        SHA    missing        PEK   \n",
       "4  78247002       MU5125           33L        SHA    missing        PEK   \n",
       "\n",
       "        departureDate         arrivalDate cabinClass priceClass  price  rate  \\\n",
       "0 2019-07-16 19:55:00 2019-07-16 22:10:00          C          Z   2980  0.52   \n",
       "1 2019-07-16 19:55:00 2019-07-16 22:10:00          C          J   5810  1.00   \n",
       "2 2019-07-16 19:55:00 2019-07-16 22:10:00          C          D   3730  0.65   \n",
       "3 2019-07-16 19:55:00 2019-07-16 22:10:00          C          C   4170  0.72   \n",
       "4 2019-07-16 20:05:00 2019-07-16 22:10:00          C          I   2000  0.36   \n",
       "\n",
       "           createDate  dateDifference  \n",
       "0 2019-07-17 02:32:27              -1  \n",
       "1 2019-07-17 02:32:27              -1  \n",
       "2 2019-07-17 02:32:27              -1  \n",
       "3 2019-07-17 02:32:27              -1  \n",
       "4 2019-07-17 02:32:27              -1  "
      ]
     },
     "execution_count": 46,
     "metadata": {},
     "output_type": "execute_result"
    }
   ],
   "source": [
    "CSV_FILE = 'sha-pek.csv'\n",
    "COLUMNS =  [\"departureDate\",\"price\",'priceClass','arrivalDate','rate']\n",
    "nRowsRead = 20000 # specify 'None' if want to read whole file\n",
    "#dataFrame = pd.read_csv( CSV_FILE , delimiter=',', nrows = nRowsRead, usecols = COLUMNS)\n",
    "dataFrame = pd.read_csv( CSV_FILE , delimiter=',', nrows = nRowsRead,na_filter=True).fillna(value = \"missing\")\n",
    "nRow, nCol = dataFrame.shape\n",
    "print('There are '+str(nRow)+' rows and '+str(nCol)+' columns')\n",
    "dataFrame['departureDate'] = pd.to_datetime(dataFrame['departureDate'])\n",
    "dataFrame['arrivalDate'] = pd.to_datetime(dataFrame['arrivalDate'])\n",
    "dataFrame['createDate'] = pd.to_datetime(dataFrame['createDate'])\n",
    "dataFrame['rate'] = pd.to_numeric(dataFrame['rate'], errors='coerce')\n",
    "#dataFrame['price'] = pd.to_numeric(dataFrame['price'], errors='coerce')\n",
    "dataFrame.head()\n",
    "#dataFrame['createDate']\n"
   ]
  },
  {
   "cell_type": "markdown",
   "metadata": {},
   "source": [
    "#  Statistical details of the dataset"
   ]
  },
  {
   "cell_type": "code",
   "execution_count": 47,
   "metadata": {},
   "outputs": [
    {
     "data": {
      "text/html": [
       "<div>\n",
       "<style scoped>\n",
       "    .dataframe tbody tr th:only-of-type {\n",
       "        vertical-align: middle;\n",
       "    }\n",
       "\n",
       "    .dataframe tbody tr th {\n",
       "        vertical-align: top;\n",
       "    }\n",
       "\n",
       "    .dataframe thead th {\n",
       "        text-align: right;\n",
       "    }\n",
       "</style>\n",
       "<table border=\"1\" class=\"dataframe\">\n",
       "  <thead>\n",
       "    <tr style=\"text-align: right;\">\n",
       "      <th></th>\n",
       "      <th>ID</th>\n",
       "      <th>price</th>\n",
       "      <th>rate</th>\n",
       "      <th>dateDifference</th>\n",
       "    </tr>\n",
       "  </thead>\n",
       "  <tbody>\n",
       "    <tr>\n",
       "      <th>count</th>\n",
       "      <td>2.000000e+04</td>\n",
       "      <td>20000.000000</td>\n",
       "      <td>20000.000000</td>\n",
       "      <td>20000.000000</td>\n",
       "    </tr>\n",
       "    <tr>\n",
       "      <th>mean</th>\n",
       "      <td>4.179802e+07</td>\n",
       "      <td>3960.349500</td>\n",
       "      <td>0.731323</td>\n",
       "      <td>4.746150</td>\n",
       "    </tr>\n",
       "    <tr>\n",
       "      <th>std</th>\n",
       "      <td>2.397481e+07</td>\n",
       "      <td>1612.092001</td>\n",
       "      <td>0.284799</td>\n",
       "      <td>5.999959</td>\n",
       "    </tr>\n",
       "    <tr>\n",
       "      <th>min</th>\n",
       "      <td>3.154000e+03</td>\n",
       "      <td>970.000000</td>\n",
       "      <td>0.000000</td>\n",
       "      <td>-1.000000</td>\n",
       "    </tr>\n",
       "    <tr>\n",
       "      <th>25%</th>\n",
       "      <td>2.019174e+07</td>\n",
       "      <td>2240.000000</td>\n",
       "      <td>0.420000</td>\n",
       "      <td>1.000000</td>\n",
       "    </tr>\n",
       "    <tr>\n",
       "      <th>50%</th>\n",
       "      <td>4.294743e+07</td>\n",
       "      <td>4170.000000</td>\n",
       "      <td>0.780000</td>\n",
       "      <td>1.000000</td>\n",
       "    </tr>\n",
       "    <tr>\n",
       "      <th>75%</th>\n",
       "      <td>6.270359e+07</td>\n",
       "      <td>5660.000000</td>\n",
       "      <td>1.000000</td>\n",
       "      <td>14.000000</td>\n",
       "    </tr>\n",
       "    <tr>\n",
       "      <th>max</th>\n",
       "      <td>7.930538e+07</td>\n",
       "      <td>5960.000000</td>\n",
       "      <td>1.000000</td>\n",
       "      <td>15.000000</td>\n",
       "    </tr>\n",
       "  </tbody>\n",
       "</table>\n",
       "</div>"
      ],
      "text/plain": [
       "                 ID         price          rate  dateDifference\n",
       "count  2.000000e+04  20000.000000  20000.000000    20000.000000\n",
       "mean   4.179802e+07   3960.349500      0.731323        4.746150\n",
       "std    2.397481e+07   1612.092001      0.284799        5.999959\n",
       "min    3.154000e+03    970.000000      0.000000       -1.000000\n",
       "25%    2.019174e+07   2240.000000      0.420000        1.000000\n",
       "50%    4.294743e+07   4170.000000      0.780000        1.000000\n",
       "75%    6.270359e+07   5660.000000      1.000000       14.000000\n",
       "max    7.930538e+07   5960.000000      1.000000       15.000000"
      ]
     },
     "execution_count": 47,
     "metadata": {},
     "output_type": "execute_result"
    }
   ],
   "source": [
    "#Check for null value\n",
    "dataFrame.isnull().values.any()\n",
    "dataFrame.describe()"
   ]
  },
  {
   "cell_type": "markdown",
   "metadata": {},
   "source": [
    "# Plot Data"
   ]
  },
  {
   "cell_type": "code",
   "execution_count": 48,
   "metadata": {},
   "outputs": [
    {
     "data": {
      "image/png": "[encoded data removed]",
      "text/plain": [
       "<Figure size 432x288 with 1 Axes>"
      ]
     },
     "metadata": {
      "needs_background": "light"
     },
     "output_type": "display_data"
    }
   ],
   "source": [
    "#dataFrame.plot()\n",
    "dataFrame.plot(x='departureDate', y='price', style='o')  \n",
    "plt.title('Departure Date vs Price')  \n",
    "plt.xlabel('Departure Date')  \n",
    "plt.ylabel('Price')  \n",
    "plt.show()"
   ]
  },
  {
   "cell_type": "code",
   "execution_count": 49,
   "metadata": {},
   "outputs": [
    {
     "data": {
      "text/plain": [
       "<matplotlib.axes._subplots.AxesSubplot at 0x11a9940d0>"
      ]
     },
     "execution_count": 49,
     "metadata": {},
     "output_type": "execute_result"
    },
    {
     "data": {
      "image/png": "[encoded data removed]",
      "text/plain": [
       "<Figure size 1080x720 with 1 Axes>"
      ]
     },
     "metadata": {
      "needs_background": "light"
     },
     "output_type": "display_data"
    }
   ],
   "source": [
    "plt.figure(figsize=(15,10))\n",
    "plt.tight_layout()\n",
    "seabornInstance.distplot(dataFrame['price'])"
   ]
  },
  {
   "cell_type": "code",
   "execution_count": 50,
   "metadata": {
    "scrolled": true
   },
   "outputs": [],
   "source": [
    "dt = dataFrame['departureDate'].values\n",
    "dt = dt.astype('datetime64[D]').astype(int)\n",
    "X = dt.reshape(-1,1)\n",
    "y = dataFrame['price'].values.reshape(-1,1)"
   ]
  },
  {
   "cell_type": "markdown",
   "metadata": {},
   "source": [
    "# Split 80% of the data to the training set while 20% of the data to test "
   ]
  },
  {
   "cell_type": "code",
   "execution_count": 51,
   "metadata": {},
   "outputs": [
    {
     "name": "stdout",
     "output_type": "stream",
     "text": [
      "('length of X_train and x_test: ', 16000, 4000)\n"
     ]
    }
   ],
   "source": [
    "X_train, X_test, y_train, y_test = train_test_split(X, y, test_size=0.2, random_state=0)\n",
    "print('length of X_train and x_test: ', len(X_train), len(X_test))\n",
    "#y_test"
   ]
  },
  {
   "cell_type": "markdown",
   "metadata": {},
   "source": [
    "# Lets train the model"
   ]
  },
  {
   "cell_type": "code",
   "execution_count": 52,
   "metadata": {},
   "outputs": [
    {
     "data": {
      "text/plain": [
       "LinearRegression(copy_X=True, fit_intercept=True, n_jobs=None,\n",
       "         normalize=False)"
      ]
     },
     "execution_count": 52,
     "metadata": {},
     "output_type": "execute_result"
    }
   ],
   "source": [
    "regressor = LinearRegression()  \n",
    "regressor.fit(X_train, y_train)"
   ]
  },
  {
   "cell_type": "markdown",
   "metadata": {},
   "source": [
    "# Predict the rates"
   ]
  },
  {
   "cell_type": "code",
   "execution_count": 53,
   "metadata": {},
   "outputs": [],
   "source": [
    "y_pred = regressor.predict(X_train)\n",
    "#y_pred"
   ]
  },
  {
   "cell_type": "markdown",
   "metadata": {},
   "source": [
    "# Test with a value"
   ]
  },
  {
   "cell_type": "code",
   "execution_count": 54,
   "metadata": {},
   "outputs": [
    {
     "data": {
      "text/plain": [
       "array([[3963.66175211]])"
      ]
     },
     "execution_count": 54,
     "metadata": {},
     "output_type": "execute_result"
    }
   ],
   "source": [
    "test_list = [\"2019-05-01T07:00:00.000000000\"]\n",
    "#dt_test_list = {\"departureDate\": ['2019-07-16 19:55:00']}\n",
    "dt_test_list = {\"departureDate\": test_list}\n",
    "df_test = pd.DataFrame(dt_test_list) \n",
    "df_test['departureDate'] = pd.to_datetime(df_test['departureDate'])\n",
    "dftest_dt = df_test['departureDate'].values.reshape(-1,1)\n",
    "dftest_dt = dftest_dt.astype('datetime64[D]').astype(int)\n",
    "y_pred_1 = regressor.predict(dftest_dt)\n",
    "y_pred_1\n",
    "#X_test"
   ]
  },
  {
   "cell_type": "code",
   "execution_count": null,
   "metadata": {},
   "outputs": [],
   "source": []
  }
 ],
 "metadata": {
  "kernelspec": {
   "display_name": "Python 2",
   "language": "python",
   "name": "python2"
  },
  "language_info": {
   "codemirror_mode": {
    "name": "ipython",
    "version": 2
   },
   "file_extension": ".py",
   "mimetype": "text/x-python",
   "name": "python",
   "nbconvert_exporter": "python",
   "pygments_lexer": "ipython2",
   "version": "2.7.15"
  }
 },
 "nbformat": 4,
 "nbformat_minor": 2
}
